{
 "cells": [
  {
   "cell_type": "markdown",
   "id": "a9752b34",
   "metadata": {},
   "source": [
    "**Capstone Project — The Battle of Neighbourhoods**\n",
    "\n",
    "**Introduction**\n",
    "\n",
    "Kochi is a major city of India. It is a part of Ernakulam district. The city itself has a population of more than a million.\n",
    "\n",
    "Called the \"Queen of the Arabian Sea\", Kochi was an important spice trading centre on the west coast of India from the 14th century onward, and maintained a trade network with Arab merchants from the pre-Islamic era. Occupied by the Portuguese in 1503, Kochi was the first of the European colonies in colonial India.\n",
    "\n",
    "The official language of Malayalam. However, English is also spoken as a formal language within businesses and government agencies. Over last decades it is continuously grow because of the city’s important role in government and commercial business.\n",
    "\n",
    "With it’s diverse culture , comes diverse food items. There are many restaurants in Kochi, each belonging to different categories like Chinese , Italian , French etc. So as part of this project , we will list and visualise all major parts of Kochi .\n",
    "\n",
    "**Questions that can be asked using the above mentioned datasets**\n",
    "\n",
    "->What is best location in Kochi for Chinese Cuisine ?\n",
    "\n",
    "->Which areas have large number of Chinese Resturant Market ?\n",
    "\n",
    "->Which all areas have less number of resturant ?\n",
    "\n",
    "->Which is the best place to stay if I prefer Chinese Cuisine ?\n",
    "\n",
    "->What places are have best restaurant in Kochi?"
   ]
  },
  {
   "cell_type": "markdown",
   "id": "69ac0cb4",
   "metadata": {},
   "source": [
    "**Data**\n",
    "\n",
    "For this project we need the following data :\n",
    "\n",
    "->Kochi Resturants data that contains list Locality, Resturant name,Rating along with their latitude and longitude.\n",
    "    \n",
    "    ->Data source : Zomato kaggel dataset(https://www.kaggle.com/shrutimehta/zomato-restaurants-data)\n",
    "    \n",
    "    ->Description : This data set contains the required information. And we will use this data set to explore various    locality of Kochi city.\n",
    "\n",
    "Nearby places in each locality of Kochi city.\n",
    "    Data source : Fousquare API (https://developer.foursquare.com/)\n",
    "    \n",
    "    Description : By using this api we will get all the venues in each neighborhood.\n",
    "\n",
    "**Approach**\n",
    "->Collect the Kochi city data from Zomato kaggel dataset\n",
    "\n",
    "->Using FourSquare API we will find all venues for each neighborhood.\n",
    "\n",
    "->Filter out all venues that are nearby by locality.\n",
    "\n",
    "->Using aggregative rating for each resturant to find the best places.\n",
    "\n",
    "->Visualize the Ranking of neighborhoods using folium library(python)"
   ]
  },
  {
   "cell_type": "code",
   "execution_count": null,
   "id": "09325344",
   "metadata": {},
   "outputs": [],
   "source": []
  }
 ],
 "metadata": {
  "kernelspec": {
   "display_name": "Python",
   "language": "python",
   "name": "conda-env-python-py"
  },
  "language_info": {
   "codemirror_mode": {
    "name": "ipython",
    "version": 3
   },
   "file_extension": ".py",
   "mimetype": "text/x-python",
   "name": "python",
   "nbconvert_exporter": "python",
   "pygments_lexer": "ipython3",
   "version": "3.6.13"
  }
 },
 "nbformat": 4,
 "nbformat_minor": 5
}
